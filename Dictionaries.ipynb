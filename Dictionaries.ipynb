{
  "nbformat": 4,
  "nbformat_minor": 0,
  "metadata": {
    "colab": {
      "name": "Dictionaries.ipynb",
      "provenance": [],
      "authorship_tag": "ABX9TyOZEVl0Cjw4SO60/pvDcZyA",
      "include_colab_link": true
    },
    "kernelspec": {
      "name": "python3",
      "display_name": "Python 3"
    },
    "language_info": {
      "name": "python"
    }
  },
  "cells": [
    {
      "cell_type": "markdown",
      "metadata": {
        "id": "view-in-github",
        "colab_type": "text"
      },
      "source": [
        "<a href=\"https://colab.research.google.com/github/KOLLURUSRIKAR/PYTHON-PRACTICE/blob/main/Dictionaries.ipynb\" target=\"_parent\"><img src=\"https://colab.research.google.com/assets/colab-badge.svg\" alt=\"Open In Colab\"/></a>"
      ]
    },
    {
      "cell_type": "markdown",
      "source": [
        "# dictionaries"
      ],
      "metadata": {
        "id": "ia0DaPGohSff"
      }
    },
    {
      "cell_type": "code",
      "source": [
        "placements={\n",
        "    \"name\":(input(\"enter name: \")),\n",
        "    \"age\":(input(\"enter age: \")),\n",
        "    \"CGPA\":(input(\"enter CGPA: \")),\n",
        "    \"section\":(input(\"enter section: \")),\n",
        "    \"phone number\":(input(\"enter phone number: \"))\n",
        "}\n",
        "print(placements)\n",
        "print(placements[\"CGPA\"])"
      ],
      "metadata": {
        "colab": {
          "base_uri": "https://localhost:8080/"
        },
        "id": "u_PP7g1ShVqw",
        "outputId": "95d7030f-1e42-449a-bb2c-fd3c9f833a97"
      },
      "execution_count": 6,
      "outputs": [
        {
          "output_type": "stream",
          "name": "stdout",
          "text": [
            "enter name: srikar\n",
            "enter age: 18\n",
            "enter CGPA: 10\n",
            "enter section: cse(ai and ml)\n",
            "enter phone number: 8897887208\n",
            "{'name': 'srikar', 'age': '18', 'CGPA': '10', 'section': 'cse(ai and ml)', 'phone number': '8897887208'}\n",
            "10\n"
          ]
        }
      ]
    },
    {
      "cell_type": "code",
      "source": [
        "# get and keys\n",
        "x=placements.get(\"CGPA\")\n",
        "print(x)\n",
        "print(\"success!\")\n",
        "y=placements.keys()\n",
        "print(y)\n",
        "print(\"success!\")"
      ],
      "metadata": {
        "colab": {
          "base_uri": "https://localhost:8080/"
        },
        "id": "D_eOc1g2kAfJ",
        "outputId": "cd51dc85-ef94-4076-b605-f975c28b31c1"
      },
      "execution_count": 10,
      "outputs": [
        {
          "output_type": "stream",
          "name": "stdout",
          "text": [
            "10\n",
            "success!\n",
            "dict_keys(['name', 'age', 'CGPA', 'section', 'phone number'])\n",
            "success!\n"
          ]
        }
      ]
    },
    {
      "cell_type": "code",
      "source": [
        "# adding a key to the dictionary\n",
        "x=placements.keys()\n",
        "print(x)# before adding\n",
        "placements[\"no of internships\"]=\"5\"\n",
        "y=placements.keys()\n",
        "print(y)# after adding\n",
        "z=placements.get(\"no of internships\")\n",
        "print(z)# accessing the item which was newly added"
      ],
      "metadata": {
        "colab": {
          "base_uri": "https://localhost:8080/"
        },
        "id": "eJmqsb__kmjH",
        "outputId": "06bb73ac-0e01-475a-e3e9-a99ef95ea1f1"
      },
      "execution_count": 12,
      "outputs": [
        {
          "output_type": "stream",
          "name": "stdout",
          "text": [
            "dict_keys(['name', 'age', 'CGPA', 'section', 'phone number', 'no of internships'])\n",
            "dict_keys(['name', 'age', 'CGPA', 'section', 'phone number', 'no of internships'])\n",
            "5\n"
          ]
        }
      ]
    }
  ]
}