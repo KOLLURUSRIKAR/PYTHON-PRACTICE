{
  "cells": [
    {
      "cell_type": "markdown",
      "metadata": {
        "id": "view-in-github",
        "colab_type": "text"
      },
      "source": [
        "<a href=\"https://colab.research.google.com/github/KOLLURUSRIKAR/PYTHON-PRACTICE/blob/main/ipynb_checkpoints.ipynb\" target=\"_parent\"><img src=\"https://colab.research.google.com/assets/colab-badge.svg\" alt=\"Open In Colab\"/></a>"
      ]
    },
    {
      "cell_type": "markdown",
      "id": "fd6376f6",
      "metadata": {
        "id": "fd6376f6"
      },
      "source": [
        "# data types in python"
      ]
    },
    {
      "cell_type": "code",
      "execution_count": null,
      "id": "81da4e1d",
      "metadata": {
        "id": "81da4e1d",
        "outputId": "bcd22416-8e9d-4d02-89ea-92b0081c75b1"
      },
      "outputs": [
        {
          "name": "stdout",
          "output_type": "stream",
          "text": [
            "40\n",
            "<class 'int'>\n"
          ]
        }
      ],
      "source": [
        "a=10\n",
        "b=30\n",
        "c=a+b\n",
        "print(c)\n",
        "print(type(b))"
      ]
    },
    {
      "cell_type": "markdown",
      "id": "69f542f7",
      "metadata": {
        "id": "69f542f7"
      },
      "source": [
        "# converting int to string,float,booleyan,complex"
      ]
    },
    {
      "cell_type": "code",
      "execution_count": null,
      "id": "4d183935",
      "metadata": {
        "id": "4d183935",
        "outputId": "4be3c9da-da5b-4f7b-8390-66416ff8ff20"
      },
      "outputs": [
        {
          "name": "stdout",
          "output_type": "stream",
          "text": [
            "10\n",
            "<class 'int'>\n",
            "10\n",
            "<class 'str'>\n",
            "<class 'float'>\n",
            "10.0\n",
            "True\n",
            "<class 'bool'>\n",
            "(10+0j)\n",
            "<class 'complex'>\n"
          ]
        }
      ],
      "source": [
        "a=10\n",
        "print(a)\n",
        "print(type(a))\n",
        "b=str(a)\n",
        "print(b)\n",
        "print(type(b))\n",
        "c=float(a)\n",
        "print(type(c))\n",
        "print(c)\n",
        "d=bool(a)\n",
        "print(d)\n",
        "print(type(d))\n",
        "e=complex(a)\n",
        "print(e)\n",
        "print(type(e))"
      ]
    },
    {
      "cell_type": "markdown",
      "id": "f26c92e5",
      "metadata": {
        "id": "f26c92e5"
      },
      "source": [
        "# converting string to float,booleyan,complex,int"
      ]
    },
    {
      "cell_type": "code",
      "execution_count": null,
      "id": "fefb8d3c",
      "metadata": {
        "id": "fefb8d3c",
        "outputId": "f180465b-9a56-43c1-b11e-98d6560aefd2"
      },
      "outputs": [
        {
          "name": "stdout",
          "output_type": "stream",
          "text": [
            "<class 'str'>\n",
            "10\n",
            "<class 'int'>\n",
            "10\n",
            "<class 'str'>\n",
            "ten\n",
            "<class 'float'>\n",
            "10.0\n",
            "<class 'bool'>\n",
            "True\n",
            "<class 'complex'>\n",
            "(10+0j)\n"
          ]
        }
      ],
      "source": [
        "a='10'\n",
        "print(type(a))\n",
        "print(a)\n",
        "b=int(a)\n",
        "print(type(b))\n",
        "print(b)\n",
        "c='ten'\n",
        "print(type(c))\n",
        "print(c)\n",
        "#cant convert alphabets into integer instead of alphabets give digits i.e 0-9 (string to int)\n",
        "d=float(a)\n",
        "print(type(d))\n",
        "print(d)\n",
        "e=bool(a)\n",
        "print(type(e))\n",
        "print(e)\n",
        "f=complex(a)\n",
        "print(type(f))\n",
        "print(f)"
      ]
    },
    {
      "cell_type": "markdown",
      "id": "ebbbd1f5",
      "metadata": {
        "id": "ebbbd1f5"
      },
      "source": [
        "# convert float to int,boolean,complex,string"
      ]
    },
    {
      "cell_type": "code",
      "execution_count": null,
      "id": "fa2ffd6e",
      "metadata": {
        "id": "fa2ffd6e",
        "outputId": "8d5953c1-60f3-4770-8d28-1d77e6395630"
      },
      "outputs": [
        {
          "name": "stdout",
          "output_type": "stream",
          "text": [
            "<class 'float'>\n",
            "10.0\n",
            "<class 'int'>\n",
            "10\n",
            "<class 'str'>\n",
            "10.0\n",
            "<class 'bool'>\n",
            "True\n",
            "<class 'complex'>\n",
            "(10+0j)\n"
          ]
        }
      ],
      "source": [
        "a=10.0\n",
        "print(type(a))\n",
        "print(a)\n",
        "b=int(a)\n",
        "print(type(b))\n",
        "print(b)\n",
        "c=str(a)\n",
        "print(type(c))\n",
        "print(c)\n",
        "d=bool(a)\n",
        "print(type(d))\n",
        "print(d)\n",
        "e=complex(a)\n",
        "print(type(e))\n",
        "print(e)"
      ]
    },
    {
      "cell_type": "markdown",
      "id": "b4b8f09a",
      "metadata": {
        "id": "b4b8f09a"
      },
      "source": [
        "# convert booloean to int,float,complex,string"
      ]
    },
    {
      "cell_type": "code",
      "execution_count": null,
      "id": "e634ba83",
      "metadata": {
        "id": "e634ba83",
        "outputId": "d15c52c3-2d8b-41a7-af8f-f4d16b836543"
      },
      "outputs": [
        {
          "name": "stdout",
          "output_type": "stream",
          "text": [
            "<class 'bool'>\n",
            "True\n",
            "<class 'int'>\n",
            "1\n",
            "<class 'float'>\n",
            "1.0\n",
            "<class 'str'>\n",
            "True\n",
            "<class 'complex'>\n",
            "(1+0j)\n"
          ]
        }
      ],
      "source": [
        "a=True\n",
        "print(type(a))\n",
        "print(a)\n",
        "b=int(a)\n",
        "print(type(b))\n",
        "print(b)\n",
        "c=float(a)\n",
        "print(type(c))\n",
        "print(c)\n",
        "d=str(a)\n",
        "print(type(d))\n",
        "print(d)\n",
        "e=complex(a)\n",
        "print(type(e))\n",
        "print(e)"
      ]
    },
    {
      "cell_type": "markdown",
      "id": "2934d7ce",
      "metadata": {
        "id": "2934d7ce"
      },
      "source": [
        "# convert complex to int,string,boolean,float"
      ]
    },
    {
      "cell_type": "code",
      "execution_count": null,
      "id": "e9150eb5",
      "metadata": {
        "id": "e9150eb5"
      },
      "outputs": [],
      "source": [
        "a=10+0j\n",
        "print(type(a))\n",
        "print(a)\n",
        "b=int(a)\n",
        "print(type(b))\n",
        "print(b)\n",
        "c=float(a)\n",
        "print(type(c))\n",
        "print(c)\n",
        "d=str(a)\n",
        "print(type(d))\n",
        "print(d)\n",
        "e=bool(a)\n",
        "print(type(e))\n",
        "print(e)"
      ]
    }
  ],
  "metadata": {
    "kernelspec": {
      "display_name": "Python 3 (ipykernel)",
      "language": "python",
      "name": "python3"
    },
    "language_info": {
      "codemirror_mode": {
        "name": "ipython",
        "version": 3
      },
      "file_extension": ".py",
      "mimetype": "text/x-python",
      "name": "python",
      "nbconvert_exporter": "python",
      "pygments_lexer": "ipython3",
      "version": "3.9.7"
    },
    "colab": {
      "name": "ipynb_checkpoints.ipynb",
      "provenance": [],
      "include_colab_link": true
    }
  },
  "nbformat": 4,
  "nbformat_minor": 5
}