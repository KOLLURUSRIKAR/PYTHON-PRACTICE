{
  "nbformat": 4,
  "nbformat_minor": 0,
  "metadata": {
    "colab": {
      "name": "STRINGS.ipynb",
      "provenance": [],
      "collapsed_sections": [],
      "authorship_tag": "ABX9TyN2LFxbNajns5Ypt8Uk8TSQ",
      "include_colab_link": true
    },
    "kernelspec": {
      "name": "python3",
      "display_name": "Python 3"
    },
    "language_info": {
      "name": "python"
    }
  },
  "cells": [
    {
      "cell_type": "markdown",
      "metadata": {
        "id": "view-in-github",
        "colab_type": "text"
      },
      "source": [
        "<a href=\"https://colab.research.google.com/github/KOLLURUSRIKAR/PYTHON-PRACTICE/blob/main/STRINGS.ipynb\" target=\"_parent\"><img src=\"https://colab.research.google.com/assets/colab-badge.svg\" alt=\"Open In Colab\"/></a>"
      ]
    },
    {
      "cell_type": "markdown",
      "source": [
        "# python strings\n"
      ],
      "metadata": {
        "id": "2md_5a9oBy9p"
      }
    },
    {
      "cell_type": "code",
      "source": [
        "a=str(input(\"enter a string: \"))\n",
        "print(a)\n",
        "print(len(a))"
      ],
      "metadata": {
        "colab": {
          "base_uri": "https://localhost:8080/"
        },
        "id": "aSWIQVSrBYbD",
        "outputId": "24b01cd7-14ab-464d-d906-2318dad0aa98"
      },
      "execution_count": null,
      "outputs": [
        {
          "output_type": "stream",
          "name": "stdout",
          "text": [
            "enter a string: srikar\n",
            "srikar\n",
            "6\n"
          ]
        }
      ]
    },
    {
      "cell_type": "code",
      "source": [
        "a = \"\"\"Lorem ipsum dolor sit amet,\n",
        "consectetur adipiscing elit,\n",
        "sed do eiusmod tempor incididunt\n",
        "ut labore et dolore magna aliqua.\"\"\"\n",
        "print(a)\n",
        "#finding length of string\n",
        "print(len(a))\n"
      ],
      "metadata": {
        "colab": {
          "base_uri": "https://localhost:8080/"
        },
        "id": "mxux-cF4_QcE",
        "outputId": "3e7f20c6-f149-4d8e-cd2b-f63e06c93994"
      },
      "execution_count": null,
      "outputs": [
        {
          "output_type": "stream",
          "name": "stdout",
          "text": [
            "Lorem ipsum dolor sit amet,\n",
            "consectetur adipiscing elit,\n",
            "sed do eiusmod tempor incididunt\n",
            "ut labore et dolore magna aliqua.\n",
            "123\n"
          ]
        }
      ]
    },
    {
      "cell_type": "markdown",
      "source": [
        "# checking a string"
      ],
      "metadata": {
        "id": "0II-VlPm_8Br"
      }
    },
    {
      "cell_type": "code",
      "source": [
        "a=\"\"\"hello class this is a special language known as pyhton,\n",
        "    thisis a language which got a higher recognition sice 2018\"\"\"\n",
        "print(\"higher\"in a)\n",
        "print(\"there\"in a)\n",
        "print(\"hi\"in a)\n",
        "print(\"special\"in a,\"language\" in a)\n",
        "print(\"not\"in a,\"language\"in a)"
      ],
      "metadata": {
        "colab": {
          "base_uri": "https://localhost:8080/"
        },
        "id": "DUhFdk1IAAja",
        "outputId": "5b15928e-4044-401d-f025-5950808ed52c"
      },
      "execution_count": null,
      "outputs": [
        {
          "output_type": "stream",
          "name": "stdout",
          "text": [
            "True\n",
            "False\n",
            "True\n",
            "True True\n",
            "False True\n"
          ]
        }
      ]
    },
    {
      "cell_type": "markdown",
      "source": [
        "# if not"
      ],
      "metadata": {
        "id": "-10-OQSTBP2D"
      }
    },
    {
      "cell_type": "code",
      "source": [
        "a=\"programming languages are very important\"\n",
        "print(\"very\"not in a)"
      ],
      "metadata": {
        "colab": {
          "base_uri": "https://localhost:8080/"
        },
        "id": "DLRBRYE9BR3z",
        "outputId": "7cdc1652-c296-40fe-deff-b28502083c74"
      },
      "execution_count": null,
      "outputs": [
        {
          "output_type": "stream",
          "name": "stdout",
          "text": [
            "False\n"
          ]
        }
      ]
    },
    {
      "cell_type": "markdown",
      "source": [
        "# slicing string"
      ],
      "metadata": {
        "id": "QtLm0UMxC4Vs"
      }
    },
    {
      "cell_type": "code",
      "source": [
        "a=\"i went to a zoo which is around 10 km.\"\n",
        "print(a[2:6],a[7:11])\n",
        "print(a[7:-1])\n",
        "print(a)"
      ],
      "metadata": {
        "colab": {
          "base_uri": "https://localhost:8080/"
        },
        "id": "xab9i1FxC6Aj",
        "outputId": "a2b8e1de-bec8-4c9b-f168-e34dc6a49a93"
      },
      "execution_count": 48,
      "outputs": [
        {
          "output_type": "stream",
          "name": "stdout",
          "text": [
            "went to a\n",
            "to a zoo which is around 10 km\n",
            "i went to a zoo which is around 10 km.\n"
          ]
        }
      ]
    },
    {
      "cell_type": "markdown",
      "source": [
        "# reverse of a string "
      ],
      "metadata": {
        "id": "6of4xFVmFiRE"
      }
    },
    {
      "cell_type": "code",
      "source": [
        "a=\"i went to a zoo which is around 10 km.\"\n",
        "print(a[-1:-13])"
      ],
      "metadata": {
        "colab": {
          "base_uri": "https://localhost:8080/"
        },
        "id": "9cKx0tQYFlBV",
        "outputId": "2ea9e042-6d9d-4f5e-97cf-cd3ddd765786"
      },
      "execution_count": null,
      "outputs": [
        {
          "output_type": "stream",
          "name": "stdout",
          "text": [
            "\n"
          ]
        }
      ]
    },
    {
      "cell_type": "markdown",
      "source": [
        "# modifying string "
      ],
      "metadata": {
        "id": "2TuDCdl-GIyb"
      }
    },
    {
      "cell_type": "code",
      "source": [
        "# upper case\n",
        "a=\"hello world\"\n",
        "print(a.upper())\n",
        "# lower case\n",
        "a=\"HELLO WORLD\"\n",
        "print(a.lower())\n",
        "#removing white spaces\n",
        "a=\" hello world\"\n",
        "print(a.strip())\n",
        "# replace a letter\n",
        "a=\"hello world\"\n",
        "print(a.replace(\"h\",\"a\"))\n",
        "# spliting  a string\n",
        "a=\"HELLO WORLD\"\n",
        "print(a.split(\",\"))"
      ],
      "metadata": {
        "colab": {
          "base_uri": "https://localhost:8080/"
        },
        "id": "MbrQnNQSGnJ6",
        "outputId": "332f96c7-0455-4325-99af-5fd9cd535379"
      },
      "execution_count": 31,
      "outputs": [
        {
          "output_type": "stream",
          "name": "stdout",
          "text": [
            "HELLO WORLD\n",
            "hello world\n",
            "hello world\n",
            "aello world\n",
            "['HELLO WORLD']\n"
          ]
        }
      ]
    },
    {
      "cell_type": "markdown",
      "source": [
        "# concatenating strings"
      ],
      "metadata": {
        "id": "DdvEk_DbK42Q"
      }
    },
    {
      "cell_type": "code",
      "source": [
        "a=\"i went to a science fair,\"\n",
        "b=\"which is so beautiful with all the experiments shown by them.\"\n",
        "c=a+b\n",
        "print(c)\n"
      ],
      "metadata": {
        "colab": {
          "base_uri": "https://localhost:8080/"
        },
        "id": "F6AJEK8CK8Jh",
        "outputId": "07459001-93b7-4309-ff6a-8902b629c4bd"
      },
      "execution_count": 32,
      "outputs": [
        {
          "output_type": "stream",
          "name": "stdout",
          "text": [
            "i went to a science fair,which is so beautiful with all the experiments shown by them\n"
          ]
        }
      ]
    },
    {
      "cell_type": "code",
      "source": [
        "a=\"i went to a science fair,\"\n",
        "b=\"which is so beautiful with all the experiments shown by them.\"\n",
        "c=a+\" \"+b\n",
        "print(c)"
      ],
      "metadata": {
        "colab": {
          "base_uri": "https://localhost:8080/"
        },
        "id": "fQpFUpL3LZUx",
        "outputId": "de5e3ec1-044f-424a-e985-a3d1e75b1658"
      },
      "execution_count": 33,
      "outputs": [
        {
          "output_type": "stream",
          "name": "stdout",
          "text": [
            "i went to a science fair, which is so beautiful with all the experiments shown by them.\n"
          ]
        }
      ]
    },
    {
      "cell_type": "code",
      "source": [
        "a=\"123,\"\n",
        "b=\"get set go \"\n",
        "c=a+b\n",
        "print(c)"
      ],
      "metadata": {
        "colab": {
          "base_uri": "https://localhost:8080/"
        },
        "id": "qfnM8IEYLhBy",
        "outputId": "ccc9c482-39a2-41bd-baa0-24e501341b7c"
      },
      "execution_count": 36,
      "outputs": [
        {
          "output_type": "stream",
          "name": "stdout",
          "text": [
            "123,get set go \n"
          ]
        }
      ]
    },
    {
      "cell_type": "markdown",
      "source": [
        "# formatting of strings"
      ],
      "metadata": {
        "id": "57b4JNB4LXWh"
      }
    },
    {
      "cell_type": "code",
      "source": [
        "tickets=8\n",
        "time=10\n",
        "price=600\n",
        "waterworld=\"I went to water world at {} AM to take {} tickets and the price is {} for each person.\"\n",
        "print(waterworld.format(time,tickets,price))"
      ],
      "metadata": {
        "colab": {
          "base_uri": "https://localhost:8080/"
        },
        "id": "AX_A50oZNlVi",
        "outputId": "4eee1bcb-d8ec-4bac-8874-e630d97e6c0a"
      },
      "execution_count": 44,
      "outputs": [
        {
          "output_type": "stream",
          "name": "stdout",
          "text": [
            "I went to water world at 10 AM to take 8 tickets and the price is 600 for each person.\n"
          ]
        }
      ]
    },
    {
      "cell_type": "markdown",
      "source": [
        "# string methods"
      ],
      "metadata": {
        "id": "afWJDW8BRi-i"
      }
    },
    {
      "cell_type": "code",
      "source": [
        "#capitalize\n",
        "a=\"hello world\"\n",
        "x=a.capitalize()\n",
        "print(x)\n",
        "#casefold\n",
        "a='HELLO WORLD'\n",
        "x=a.casefold()\n",
        "print(x)"
      ],
      "metadata": {
        "colab": {
          "base_uri": "https://localhost:8080/"
        },
        "id": "WO0rAjIQRlNC",
        "outputId": "eaed8399-8d49-4f71-9652-13e96d2f23f3"
      },
      "execution_count": 50,
      "outputs": [
        {
          "output_type": "stream",
          "name": "stdout",
          "text": [
            "Hello world\n",
            "hello world\n"
          ]
        }
      ]
    }
  ]
}